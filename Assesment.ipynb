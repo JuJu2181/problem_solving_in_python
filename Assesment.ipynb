{
  "nbformat": 4,
  "nbformat_minor": 0,
  "metadata": {
    "colab": {
      "name": "Assesment.ipynb",
      "provenance": [],
      "authorship_tag": "ABX9TyO28Vxk/6YQPnQVJD4dPvsE",
      "include_colab_link": true
    },
    "kernelspec": {
      "name": "python3",
      "display_name": "Python 3"
    },
    "language_info": {
      "name": "python"
    }
  },
  "cells": [
    {
      "cell_type": "markdown",
      "metadata": {
        "id": "view-in-github",
        "colab_type": "text"
      },
      "source": [
        "<a href=\"https://colab.research.google.com/github/JuJu2181/problem_solving_in_python/blob/master/Assesment.ipynb\" target=\"_parent\"><img src=\"https://colab.research.google.com/assets/colab-badge.svg\" alt=\"Open In Colab\"/></a>"
      ]
    },
    {
      "cell_type": "code",
      "metadata": {
        "colab": {
          "base_uri": "https://localhost:8080/"
        },
        "id": "E_2rbc9eTHKA",
        "outputId": "fb157723-3ef9-428e-da25-66f4a5c372d6"
      },
      "source": [
        "print('Start')\n"
      ],
      "execution_count": 1,
      "outputs": [
        {
          "output_type": "stream",
          "name": "stdout",
          "text": [
            "Start\n"
          ]
        }
      ]
    },
    {
      "cell_type": "code",
      "metadata": {
        "colab": {
          "base_uri": "https://localhost:8080/"
        },
        "id": "DB5D3KwReDwx",
        "outputId": "93d7bcc7-aa1b-403c-eb17-8f4719cb3952"
      },
      "source": [
        "#function to convert first letter of word to lowercase and rest to uppercase\n",
        "def convertWord(word):\n",
        "  return word[0].lower() + word[1:].upper()\n",
        "\n",
        "# The function is expected to return a string.\n",
        "# The function accepts string as parameter.\n",
        "\n",
        "def logic(my_input):\n",
        "    # Write your code here and remove pass statement\n",
        "    # Don't print anything. Just return the intended output\n",
        "    # You can create other functions and call from here\n",
        "    input_list = my_input.split()\n",
        "    output_str = \"\"\n",
        "    for word in input_list:\n",
        "      output_str = output_str+convertWord(word)\n",
        "    return output_str\n",
        "\n",
        "\n",
        "# Do not edit below\n",
        "\n",
        "# Get the input\n",
        "my_input = input()\n",
        "\n",
        "# Print output returned from the logic function\n",
        "print(logic(my_input))"
      ],
      "execution_count": 5,
      "outputs": [
        {
          "output_type": "stream",
          "name": "stdout",
          "text": [
            "My name is Anish\n",
            "mYnAMEiSaNISH\n"
          ]
        }
      ]
    },
    {
      "cell_type": "code",
      "metadata": {
        "colab": {
          "base_uri": "https://localhost:8080/"
        },
        "id": "GgrnpkB0hi4Y",
        "outputId": "13e5d23a-b2ba-473e-e153-0fcc2e6abc44"
      },
      "source": [
        "# The function is expected to return an integer.\n",
        "# The function accepts an string array(list of input) and an integer(length of input) as parameters.\n",
        "\n",
        "def logic(inputs, input_length):\n",
        "    # Write your code here and remove pass statement\n",
        "    # You can create other functions and call from here\n",
        "    # Don't print anything. Just return the intended output\n",
        "\n",
        "    #both primary and secondary are arrays of length 26 for 26 alphabets\n",
        "    #primary array for common characters assuming all chars are common\n",
        "    primary = [True]*26\n",
        "\n",
        "    for i in range(input_length):\n",
        "      #secondary array for common charactes assuming none are common\n",
        "      secondary = [False]*26\n",
        "      #for every character in each strings\n",
        "      for j in range(len(inputs[i])):\n",
        "        if(primary[ord(inputs[i][j]) - ord('a')]):\n",
        "          #if the character is present in all strings we will mark it common in secondary\n",
        "          secondary[ord(inputs[i][j])-ord('a')] = True\n",
        "      #copy whole secondary array to primary\n",
        "      for i in range(26):\n",
        "        primary[i] = secondary[i]\n",
        "    #list to store common characters in string\n",
        "    common_chars = []\n",
        "    for i in range(26):\n",
        "      if(primary[i]):\n",
        "        # to obtain character represented by ascii of the character in primary\n",
        "        common_chars.append(\"%c \" % (i+ord('a')))\n",
        "    return len(common_chars)\n",
        "\n",
        "\n",
        "\n",
        "# Do not edit below\n",
        "\n",
        "# Get the input\n",
        "input_length = int(input())\n",
        "inputs = []\n",
        "for x in range(input_length):\n",
        "    inputs.append(input())\n",
        "\n",
        "# Print output returned from the logic function\n",
        "print(logic(inputs, input_length))"
      ],
      "execution_count": 23,
      "outputs": [
        {
          "output_type": "stream",
          "name": "stdout",
          "text": [
            "3\n",
            "aeiouxyz\n",
            "aumnpez\n",
            "nmzea\n",
            "3\n"
          ]
        }
      ]
    },
    {
      "cell_type": "code",
      "metadata": {
        "colab": {
          "base_uri": "https://localhost:8080/"
        },
        "id": "WTMo5HaGlNHI",
        "outputId": "f7e3872e-6242-44e0-b6b0-11614bb78e95"
      },
      "source": [
        "#function to check even \n",
        "def isEven(number):\n",
        "  return True if number%2 == 0 else False\n",
        "\n",
        "# The function is expected to return a string.\n",
        "# The function accepts string as parameter.\n",
        "\n",
        "def logic(my_input):\n",
        "    # Write your code here and remove pass statement\n",
        "    # Don't print anything. Just return the intended output\n",
        "    # You can create other functions and call from here\n",
        "    zero_count = 0\n",
        "    one_count = 0\n",
        "    max_zero_count = 0\n",
        "    max_one_count = 0\n",
        "    for i in range(len(my_input)):\n",
        "      if my_input[i] == '0':\n",
        "        one_count = 0\n",
        "        zero_count += 1\n",
        "        max_zero_count = max(zero_count,max_zero_count)\n",
        "      elif my_input[i] == '1':\n",
        "        zero_count = 0\n",
        "        one_count += 1\n",
        "        max_one_count = max(one_count,max_one_count)\n",
        "    if isEven(max_zero_count) and not isEven(max_one_count):\n",
        "      return 'yes'\n",
        "    else:\n",
        "      return 'no'\n",
        "    \n",
        "\n",
        "# Do not edit below\n",
        "\n",
        "# Get the input\n",
        "my_input = input()\n",
        "\n",
        "# Print output returned from the logic function\n",
        "print(logic(my_input))"
      ],
      "execution_count": 38,
      "outputs": [
        {
          "output_type": "stream",
          "name": "stdout",
          "text": [
            "0010000111\n",
            "yes\n"
          ]
        }
      ]
    },
    {
      "cell_type": "code",
      "metadata": {
        "colab": {
          "base_uri": "https://localhost:8080/"
        },
        "id": "B1alaLAfs0lz",
        "outputId": "34bd94d4-9f28-4005-ecf1-1bf2b43af430"
      },
      "source": [
        "print('End')"
      ],
      "execution_count": 39,
      "outputs": [
        {
          "output_type": "stream",
          "name": "stdout",
          "text": [
            "End\n"
          ]
        }
      ]
    },
    {
      "cell_type": "code",
      "metadata": {
        "id": "8qTujPU7wYXu"
      },
      "source": [
        ""
      ],
      "execution_count": null,
      "outputs": []
    }
  ]
}