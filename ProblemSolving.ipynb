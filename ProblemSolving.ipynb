{
  "nbformat": 4,
  "nbformat_minor": 0,
  "metadata": {
    "colab": {
      "name": "ProblemSolving.ipynb",
      "provenance": [],
      "authorship_tag": "ABX9TyMKJL/+Im/GvjSaFOZgdvMC",
      "include_colab_link": true
    },
    "kernelspec": {
      "name": "python3",
      "display_name": "Python 3"
    },
    "language_info": {
      "name": "python"
    }
  },
  "cells": [
    {
      "cell_type": "markdown",
      "metadata": {
        "id": "view-in-github",
        "colab_type": "text"
      },
      "source": [
        "<a href=\"https://colab.research.google.com/github/JuJu2181/problem_solving_in_python/blob/master/ProblemSolving.ipynb\" target=\"_parent\"><img src=\"https://colab.research.google.com/assets/colab-badge.svg\" alt=\"Open In Colab\"/></a>"
      ]
    },
    {
      "cell_type": "code",
      "metadata": {
        "colab": {
          "base_uri": "https://localhost:8080/"
        },
        "id": "EMG8bbGcr27k",
        "outputId": "cd6092cb-dfc6-4885-888e-e8d66d750305"
      },
      "source": [
        "# Program to add all the digits of a number \n",
        "def logic(my_input):\n",
        "  sum = 0\n",
        "  for digit in str(my_input):\n",
        "    sum += int(digit)\n",
        "  return sum\n",
        "\n",
        "my_input = int(input('Enter the number: '))\n",
        "print(logic(my_input))"
      ],
      "execution_count": null,
      "outputs": [
        {
          "output_type": "stream",
          "name": "stdout",
          "text": [
            "Enter the number: 101\n",
            "2\n"
          ]
        }
      ]
    },
    {
      "cell_type": "code",
      "metadata": {
        "colab": {
          "base_uri": "https://localhost:8080/"
        },
        "id": "OH_1Rzvo18MV",
        "outputId": "16f7c482-c01b-4173-be6e-03b062a8badf"
      },
      "source": [
        "# program to add all digits of a number c style\n",
        "def logic(my_input):\n",
        "  sum = 0\n",
        "  while my_input > 0:\n",
        "    sum += int(my_input%10)\n",
        "    my_input = int(my_input/10)\n",
        "  return sum\n",
        "\n",
        "my_input = int(input('Enter Number: '))\n",
        "print(logic(my_input))"
      ],
      "execution_count": null,
      "outputs": [
        {
          "output_type": "stream",
          "name": "stdout",
          "text": [
            "Enter Number: 111\n",
            "3\n"
          ]
        }
      ]
    },
    {
      "cell_type": "code",
      "metadata": {
        "colab": {
          "base_uri": "https://localhost:8080/"
        },
        "id": "4y9qagkj0pVr",
        "outputId": "60ec0cf8-16bf-4156-d540-abee15111540"
      },
      "source": [
        "#program to check for palindrome\n",
        "def reverseString(string):\n",
        "  return string if len(string) == 0 else string[::-1]\n",
        "\n",
        "def logic(my_input):\n",
        "  return \"palindrome\" if my_input == reverseString(my_input) else \"not palindrome\"\n",
        "\n",
        "my_input = input('Input:')\n",
        "print(logic(my_input))"
      ],
      "execution_count": null,
      "outputs": [
        {
          "output_type": "stream",
          "name": "stdout",
          "text": [
            "Input:)(()\n",
            "palindrome\n"
          ]
        }
      ]
    },
    {
      "cell_type": "code",
      "metadata": {
        "colab": {
          "base_uri": "https://localhost:8080/"
        },
        "id": "fC7aMm691vNj",
        "outputId": "13df167d-88aa-49ae-a21a-88686049f749"
      },
      "source": [
        "#program to check prime numbers in input list\n",
        "def logic(my_input):\n",
        "  output = {}\n",
        "  for i in my_input:\n",
        "    if i < 2:\n",
        "      output[i] = \"not prime\"\n",
        "    else:\n",
        "      for j in range(2,i):\n",
        "        if(i%j == 0):\n",
        "          output[i] = \"not prime\"\n",
        "          break\n",
        "      else:\n",
        "        output[i] = \"prime\"\n",
        "  return output\n",
        "\n",
        "\n",
        "my_input = [int(number) for number in input(\"Enter list of items: \").split()]\n",
        "print(logic(my_input))"
      ],
      "execution_count": null,
      "outputs": [
        {
          "output_type": "stream",
          "name": "stdout",
          "text": [
            "Enter list of items: 2 3 5 7 9 11 13 15 18\n",
            "{2: 'prime', 3: 'prime', 5: 'prime', 7: 'prime', 9: 'not prime', 11: 'prime', 13: 'prime', 15: 'not prime', 18: 'not prime'}\n"
          ]
        }
      ]
    },
    {
      "cell_type": "code",
      "metadata": {
        "id": "5VS6ot3k4WeP",
        "colab": {
          "base_uri": "https://localhost:8080/"
        },
        "outputId": "6b52e97a-e4b4-4dd7-8816-15fa7ca7645c"
      },
      "source": [
        "#program to check for even and odd numbers in an input list\n",
        "def logic(my_input):\n",
        "  output = []\n",
        "  for i in range(my_input):\n",
        "    num = int(input(f'Enter number {i+1}: '))\n",
        "    output.append(\"Even\" if num%2 == 0 else \"Odd\")\n",
        "  return output\n",
        "\n",
        "my_input = int(input('Enter number of items in list: '))\n",
        "\n",
        "print(logic(my_input))"
      ],
      "execution_count": 19,
      "outputs": [
        {
          "output_type": "stream",
          "name": "stdout",
          "text": [
            "Enter number of items in list: 3\n",
            "Enter number 1: 1\n",
            "Enter number 2: 2\n",
            "Enter number 3: 3\n",
            "['Odd', 'Even', 'Odd']\n"
          ]
        }
      ]
    },
    {
      "cell_type": "code",
      "metadata": {
        "colab": {
          "base_uri": "https://localhost:8080/"
        },
        "id": "zg10UFwcXaZP",
        "outputId": "a94cac5d-9392-4707-bf79-f7a8b945cd40"
      },
      "source": [
        "#program that adds n numbers and prints the sum \n",
        "def logic(my_input):\n",
        "  sum = 0\n",
        "  for i in range(my_input):\n",
        "    sum += int(input(f'Enter number {i+1}: '))\n",
        "  return sum\n",
        "\n",
        "my_input = int(input('Enter n: '))\n",
        "print(logic(my_input))"
      ],
      "execution_count": 20,
      "outputs": [
        {
          "output_type": "stream",
          "name": "stdout",
          "text": [
            "Enter n: 5\n",
            "Enter number 1: 1\n",
            "Enter number 2: 2\n",
            "Enter number 3: 3\n",
            "Enter number 4: 4\n",
            "Enter number 5: 5\n",
            "15\n"
          ]
        }
      ]
    },
    {
      "cell_type": "code",
      "metadata": {
        "colab": {
          "base_uri": "https://localhost:8080/"
        },
        "id": "XbL1EJGvYhqv",
        "outputId": "59e0ec35-10ab-4fb9-9a83-284f3c9fb45d"
      },
      "source": [
        "# Fizzbuzz program \n",
        "output = []\n",
        "for i in range(1,101):\n",
        "  if i%3 == 0 and i%5 == 0:\n",
        "    output.append('fizzbuzz')\n",
        "  elif i%3 == 0:\n",
        "    output.append('fizz')\n",
        "  elif i%5 == 0:\n",
        "    output.append('buzz')\n",
        "  else:\n",
        "    output.append(i)\n",
        "print(output)"
      ],
      "execution_count": 22,
      "outputs": [
        {
          "output_type": "stream",
          "name": "stdout",
          "text": [
            "[1, 2, 'fizz', 4, 'buzz', 'fizz', 7, 8, 'fizz', 'buzz', 11, 'fizz', 13, 14, 'fizzbuzz', 16, 17, 'fizz', 19, 'buzz', 'fizz', 22, 23, 'fizz', 'buzz', 26, 'fizz', 28, 29, 'fizzbuzz', 31, 32, 'fizz', 34, 'buzz', 'fizz', 37, 38, 'fizz', 'buzz', 41, 'fizz', 43, 44, 'fizzbuzz', 46, 47, 'fizz', 49, 'buzz', 'fizz', 52, 53, 'fizz', 'buzz', 56, 'fizz', 58, 59, 'fizzbuzz', 61, 62, 'fizz', 64, 'buzz', 'fizz', 67, 68, 'fizz', 'buzz', 71, 'fizz', 73, 74, 'fizzbuzz', 76, 77, 'fizz', 79, 'buzz', 'fizz', 82, 83, 'fizz', 'buzz', 86, 'fizz', 88, 89, 'fizzbuzz', 91, 92, 'fizz', 94, 'buzz', 'fizz', 97, 98, 'fizz', 'buzz']\n"
          ]
        }
      ]
    },
    {
      "cell_type": "code",
      "metadata": {
        "colab": {
          "base_uri": "https://localhost:8080/"
        },
        "id": "d97sZGG0Zx-7",
        "outputId": "7f7c98cc-57ea-44a8-d97a-d5fd4a79b1bb"
      },
      "source": [
        "#find average_marks\n",
        "mark1 =  int(input('Enter mark in 1st subject: '))\n",
        "mark2 =  int(input('Enter marl in 2nd subject: '))\n",
        "mark3 =  int(input('Enter marl in 3rd subject: '))\n",
        "print((mark1+mark2+mark3)/3)"
      ],
      "execution_count": 23,
      "outputs": [
        {
          "output_type": "stream",
          "name": "stdout",
          "text": [
            "Enter mark in 1st subject: 80\n",
            "Enter marl in 2nd subject: 90\n",
            "Enter marl in 3rd subject: 50\n",
            "73.33333333333333\n"
          ]
        }
      ]
    },
    {
      "cell_type": "code",
      "metadata": {
        "colab": {
          "base_uri": "https://localhost:8080/"
        },
        "id": "zAVytvSqdmjw",
        "outputId": "6ba696e3-5f02-4f05-9474-c996ce20e21c"
      },
      "source": [
        "# Check string permutation\n",
        "#Permutation means - length of both the strings should same and should contain same set of characters. Order of characters doesn't matter.\n",
        "string1 = input(\"string 1: \").lower()\n",
        "string2 = input(\"string 2: \").lower()\n",
        "print(True) if sorted(string1) == sorted(string2) else print(False)"
      ],
      "execution_count": 28,
      "outputs": [
        {
          "output_type": "stream",
          "name": "stdout",
          "text": [
            "string 1: abc\n",
            "string 2: adc\n",
            "False\n"
          ]
        }
      ]
    },
    {
      "cell_type": "code",
      "metadata": {
        "id": "jQJ95vknhWmD"
      },
      "source": [
        ""
      ],
      "execution_count": null,
      "outputs": []
    }
  ]
}