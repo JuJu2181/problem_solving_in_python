{
  "nbformat": 4,
  "nbformat_minor": 0,
  "metadata": {
    "colab": {
      "name": "ProblemSolving.ipynb",
      "provenance": [],
      "authorship_tag": "ABX9TyM0Fw7O+t9lnHKJhoTVxPOr",
      "include_colab_link": true
    },
    "kernelspec": {
      "name": "python3",
      "display_name": "Python 3"
    },
    "language_info": {
      "name": "python"
    }
  },
  "cells": [
    {
      "cell_type": "markdown",
      "metadata": {
        "id": "view-in-github",
        "colab_type": "text"
      },
      "source": [
        "<a href=\"https://colab.research.google.com/github/JuJu2181/problem_solving_in_python/blob/master/ProblemSolving.ipynb\" target=\"_parent\"><img src=\"https://colab.research.google.com/assets/colab-badge.svg\" alt=\"Open In Colab\"/></a>"
      ]
    },
    {
      "cell_type": "code",
      "metadata": {
        "colab": {
          "base_uri": "https://localhost:8080/"
        },
        "id": "EMG8bbGcr27k",
        "outputId": "cd6092cb-dfc6-4885-888e-e8d66d750305"
      },
      "source": [
        "# Program to add all the digits of a number \n",
        "def logic(my_input):\n",
        "  sum = 0\n",
        "  for digit in str(my_input):\n",
        "    sum += int(digit)\n",
        "  return sum\n",
        "\n",
        "my_input = int(input('Enter the number: '))\n",
        "print(logic(my_input))"
      ],
      "execution_count": null,
      "outputs": [
        {
          "output_type": "stream",
          "name": "stdout",
          "text": [
            "Enter the number: 101\n",
            "2\n"
          ]
        }
      ]
    },
    {
      "cell_type": "code",
      "metadata": {
        "colab": {
          "base_uri": "https://localhost:8080/"
        },
        "id": "OH_1Rzvo18MV",
        "outputId": "16f7c482-c01b-4173-be6e-03b062a8badf"
      },
      "source": [
        "# program to add all digits of a number c style\n",
        "def logic(my_input):\n",
        "  sum = 0\n",
        "  while my_input > 0:\n",
        "    sum += int(my_input%10)\n",
        "    my_input = int(my_input/10)\n",
        "  return sum\n",
        "\n",
        "my_input = int(input('Enter Number: '))\n",
        "print(logic(my_input))"
      ],
      "execution_count": null,
      "outputs": [
        {
          "output_type": "stream",
          "name": "stdout",
          "text": [
            "Enter Number: 111\n",
            "3\n"
          ]
        }
      ]
    },
    {
      "cell_type": "code",
      "metadata": {
        "colab": {
          "base_uri": "https://localhost:8080/"
        },
        "id": "4y9qagkj0pVr",
        "outputId": "60ec0cf8-16bf-4156-d540-abee15111540"
      },
      "source": [
        "#program to check for palindrome\n",
        "def reverseString(string):\n",
        "  return string if len(string) == 0 else string[::-1]\n",
        "\n",
        "def logic(my_input):\n",
        "  return \"palindrome\" if my_input == reverseString(my_input) else \"not palindrome\"\n",
        "\n",
        "my_input = input('Input:')\n",
        "print(logic(my_input))"
      ],
      "execution_count": null,
      "outputs": [
        {
          "output_type": "stream",
          "name": "stdout",
          "text": [
            "Input:)(()\n",
            "palindrome\n"
          ]
        }
      ]
    },
    {
      "cell_type": "code",
      "metadata": {
        "colab": {
          "base_uri": "https://localhost:8080/"
        },
        "id": "fC7aMm691vNj",
        "outputId": "13df167d-88aa-49ae-a21a-88686049f749"
      },
      "source": [
        "#program to check prime numbers in input list\n",
        "def logic(my_input):\n",
        "  output = {}\n",
        "  for i in my_input:\n",
        "    if i < 2:\n",
        "      output[i] = \"not prime\"\n",
        "    else:\n",
        "      for j in range(2,i):\n",
        "        if(i%j == 0):\n",
        "          output[i] = \"not prime\"\n",
        "          break\n",
        "      else:\n",
        "        output[i] = \"prime\"\n",
        "  return output\n",
        "\n",
        "\n",
        "my_input = [int(number) for number in input(\"Enter list of items: \").split()]\n",
        "print(logic(my_input))"
      ],
      "execution_count": null,
      "outputs": [
        {
          "output_type": "stream",
          "name": "stdout",
          "text": [
            "Enter list of items: 2 3 5 7 9 11 13 15 18\n",
            "{2: 'prime', 3: 'prime', 5: 'prime', 7: 'prime', 9: 'not prime', 11: 'prime', 13: 'prime', 15: 'not prime', 18: 'not prime'}\n"
          ]
        }
      ]
    },
    {
      "cell_type": "code",
      "metadata": {
        "id": "5VS6ot3k4WeP",
        "colab": {
          "base_uri": "https://localhost:8080/"
        },
        "outputId": "6b52e97a-e4b4-4dd7-8816-15fa7ca7645c"
      },
      "source": [
        "#program to check for even and odd numbers in an input list\n",
        "def logic(my_input):\n",
        "  output = []\n",
        "  for i in range(my_input):\n",
        "    num = int(input(f'Enter number {i+1}: '))\n",
        "    output.append(\"Even\" if num%2 == 0 else \"Odd\")\n",
        "  return output\n",
        "\n",
        "my_input = int(input('Enter number of items in list: '))\n",
        "\n",
        "print(logic(my_input))"
      ],
      "execution_count": null,
      "outputs": [
        {
          "output_type": "stream",
          "name": "stdout",
          "text": [
            "Enter number of items in list: 3\n",
            "Enter number 1: 1\n",
            "Enter number 2: 2\n",
            "Enter number 3: 3\n",
            "['Odd', 'Even', 'Odd']\n"
          ]
        }
      ]
    },
    {
      "cell_type": "code",
      "metadata": {
        "colab": {
          "base_uri": "https://localhost:8080/"
        },
        "id": "zg10UFwcXaZP",
        "outputId": "a94cac5d-9392-4707-bf79-f7a8b945cd40"
      },
      "source": [
        "#program that adds n numbers and prints the sum \n",
        "def logic(my_input):\n",
        "  sum = 0\n",
        "  for i in range(my_input):\n",
        "    sum += int(input(f'Enter number {i+1}: '))\n",
        "  return sum\n",
        "\n",
        "my_input = int(input('Enter n: '))\n",
        "print(logic(my_input))"
      ],
      "execution_count": null,
      "outputs": [
        {
          "output_type": "stream",
          "name": "stdout",
          "text": [
            "Enter n: 5\n",
            "Enter number 1: 1\n",
            "Enter number 2: 2\n",
            "Enter number 3: 3\n",
            "Enter number 4: 4\n",
            "Enter number 5: 5\n",
            "15\n"
          ]
        }
      ]
    },
    {
      "cell_type": "code",
      "metadata": {
        "colab": {
          "base_uri": "https://localhost:8080/"
        },
        "id": "XbL1EJGvYhqv",
        "outputId": "59e0ec35-10ab-4fb9-9a83-284f3c9fb45d"
      },
      "source": [
        "# Fizzbuzz program \n",
        "output = []\n",
        "for i in range(1,101):\n",
        "  if i%3 == 0 and i%5 == 0:\n",
        "    output.append('fizzbuzz')\n",
        "  elif i%3 == 0:\n",
        "    output.append('fizz')\n",
        "  elif i%5 == 0:\n",
        "    output.append('buzz')\n",
        "  else:\n",
        "    output.append(i)\n",
        "print(output)"
      ],
      "execution_count": null,
      "outputs": [
        {
          "output_type": "stream",
          "name": "stdout",
          "text": [
            "[1, 2, 'fizz', 4, 'buzz', 'fizz', 7, 8, 'fizz', 'buzz', 11, 'fizz', 13, 14, 'fizzbuzz', 16, 17, 'fizz', 19, 'buzz', 'fizz', 22, 23, 'fizz', 'buzz', 26, 'fizz', 28, 29, 'fizzbuzz', 31, 32, 'fizz', 34, 'buzz', 'fizz', 37, 38, 'fizz', 'buzz', 41, 'fizz', 43, 44, 'fizzbuzz', 46, 47, 'fizz', 49, 'buzz', 'fizz', 52, 53, 'fizz', 'buzz', 56, 'fizz', 58, 59, 'fizzbuzz', 61, 62, 'fizz', 64, 'buzz', 'fizz', 67, 68, 'fizz', 'buzz', 71, 'fizz', 73, 74, 'fizzbuzz', 76, 77, 'fizz', 79, 'buzz', 'fizz', 82, 83, 'fizz', 'buzz', 86, 'fizz', 88, 89, 'fizzbuzz', 91, 92, 'fizz', 94, 'buzz', 'fizz', 97, 98, 'fizz', 'buzz']\n"
          ]
        }
      ]
    },
    {
      "cell_type": "code",
      "metadata": {
        "colab": {
          "base_uri": "https://localhost:8080/"
        },
        "id": "d97sZGG0Zx-7",
        "outputId": "7f7c98cc-57ea-44a8-d97a-d5fd4a79b1bb"
      },
      "source": [
        "#find average_marks\n",
        "mark1 =  int(input('Enter mark in 1st subject: '))\n",
        "mark2 =  int(input('Enter marl in 2nd subject: '))\n",
        "mark3 =  int(input('Enter marl in 3rd subject: '))\n",
        "print((mark1+mark2+mark3)/3)"
      ],
      "execution_count": null,
      "outputs": [
        {
          "output_type": "stream",
          "name": "stdout",
          "text": [
            "Enter mark in 1st subject: 80\n",
            "Enter marl in 2nd subject: 90\n",
            "Enter marl in 3rd subject: 50\n",
            "73.33333333333333\n"
          ]
        }
      ]
    },
    {
      "cell_type": "code",
      "metadata": {
        "colab": {
          "base_uri": "https://localhost:8080/"
        },
        "id": "zAVytvSqdmjw",
        "outputId": "6ba696e3-5f02-4f05-9474-c996ce20e21c"
      },
      "source": [
        "# Check string permutation\n",
        "#Permutation means - length of both the strings should same and should contain same set of characters. Order of characters doesn't matter.\n",
        "string1 = input(\"string 1: \").lower()\n",
        "string2 = input(\"string 2: \").lower()\n",
        "print(True) if sorted(string1) == sorted(string2) else print(False)"
      ],
      "execution_count": null,
      "outputs": [
        {
          "output_type": "stream",
          "name": "stdout",
          "text": [
            "string 1: abc\n",
            "string 2: adc\n",
            "False\n"
          ]
        }
      ]
    },
    {
      "cell_type": "code",
      "metadata": {
        "id": "jQJ95vknhWmD",
        "colab": {
          "base_uri": "https://localhost:8080/"
        },
        "outputId": "45145c5e-65f2-45d6-aadb-cdcac18408da"
      },
      "source": [
        "# Program to perform string compression\n",
        "# aaabbccccc => a3b2c5\n",
        "def logic(my_input):\n",
        "  index = 0\n",
        "  compressed_str = \"\"\n",
        "  str_length = len(my_input)\n",
        "  while not index == str_length:\n",
        "    count = 1\n",
        "    while index < str_length-1 and my_input[index] == my_input[index+1]:\n",
        "      count += 1\n",
        "      index += 1\n",
        "    if count == 1:\n",
        "      compressed_str += str(my_input[index])\n",
        "    else:\n",
        "      compressed_str += str(my_input[index]+str(count))\n",
        "    index += 1\n",
        "  return compressed_str\n",
        "\n",
        "my_input = input()\n",
        "print(logic(my_input))"
      ],
      "execution_count": 5,
      "outputs": [
        {
          "output_type": "stream",
          "name": "stdout",
          "text": [
            "aabbbb\n",
            "a2b4\n"
          ]
        }
      ]
    },
    {
      "cell_type": "code",
      "metadata": {
        "colab": {
          "base_uri": "https://localhost:8080/"
        },
        "id": "-WZCbdljMi33",
        "outputId": "3367f75a-4025-4c5b-8f50-6eae8b9506f7"
      },
      "source": [
        "# Program to find character with highest and lowest frequency/occurence \n",
        "# aaaaabbbbbbbcccddddddddddd => d\n",
        "def get_unique_list(input_list):\n",
        "  output_list = []\n",
        "  for element in input_list:\n",
        "    if element not in output_list:\n",
        "      output_list.append(element)\n",
        "  return output_list\n",
        "\n",
        "def logic(my_input):\n",
        "  input_chars = list(my_input)\n",
        "  unique_chars = get_unique_list(input_chars)\n",
        "  max_count = 0\n",
        "  max_char = \"\"\n",
        "  for item in unique_chars:\n",
        "    count = 0\n",
        "    for index in range(len(input_chars)):\n",
        "      if item == input_chars[index]:\n",
        "        count +=1\n",
        "      if count > max_count:\n",
        "        max_count = count\n",
        "        max_char = item\n",
        "  return max_char\n",
        "\n",
        "my_input = input('Input String: ')\n",
        "print(logic(my_input))"
      ],
      "execution_count": 12,
      "outputs": [
        {
          "output_type": "stream",
          "name": "stdout",
          "text": [
            "Input String: abbbabaacca\n",
            "a\n"
          ]
        }
      ]
    },
    {
      "cell_type": "code",
      "metadata": {
        "colab": {
          "base_uri": "https://localhost:8080/"
        },
        "id": "kW3ypZatOUiO",
        "outputId": "baf635d0-63d9-4987-ab21-bc1a2725a313"
      },
      "source": [
        "# Program to remove consecutive duplicates\n",
        "my_input = input()\n",
        "# my_input = my_input\n",
        "my_output = \"\"\n",
        "for i in range(len(my_input)):\n",
        "  # if the character is the last character in string directly append it\n",
        "  if i+1 == len(my_input):\n",
        "    my_output += my_input[i]\n",
        "    break\n",
        "  # check for repetition for every other character in string\n",
        "  if my_input[i] != my_input[i+1]:\n",
        "      my_output += my_input[i]\n",
        "print(my_output) "
      ],
      "execution_count": 20,
      "outputs": [
        {
          "output_type": "stream",
          "name": "stdout",
          "text": [
            "aabccbbaa\n",
            "abcba\n"
          ]
        }
      ]
    },
    {
      "cell_type": "code",
      "metadata": {
        "colab": {
          "base_uri": "https://localhost:8080/"
        },
        "id": "5lYw7k8RYOzT",
        "outputId": "cb614855-a25f-4d6f-8b20-1ce0508fec1b"
      },
      "source": [
        "#Program to remove a character from string \n",
        "input_string = input('String: ')\n",
        "input_char = input('Character: ')\n",
        "output_string = \"\"\n",
        "for char in input_string:\n",
        "  if char != input_char:\n",
        "    output_string += char\n",
        "print(output_string)"
      ],
      "execution_count": 22,
      "outputs": [
        {
          "output_type": "stream",
          "name": "stdout",
          "text": [
            "String: welcome to coding ninjas\n",
            "Character: o\n",
            "welcme t cding ninjas\n"
          ]
        }
      ]
    },
    {
      "cell_type": "code",
      "metadata": {
        "colab": {
          "base_uri": "https://localhost:8080/"
        },
        "id": "kglCxDZ6ab7q",
        "outputId": "a37adaa7-1d96-430e-fed3-241d0ae12c16"
      },
      "source": [
        "#program to reverse each word in a string \n",
        "input_string = input('Input String: ')\n",
        "input_words = input_string.split()\n",
        "output_words = []\n",
        "for word in input_words:\n",
        "  output_words.append(word[::-1])\n",
        "\n",
        "output_string = \" \".join(output_words)\n",
        "print(output_string)\n",
        "\n"
      ],
      "execution_count": 26,
      "outputs": [
        {
          "output_type": "stream",
          "name": "stdout",
          "text": [
            "Input String: Welcome to Coding ninjas\n",
            "emocleW ot gnidoC sajnin\n"
          ]
        }
      ]
    },
    {
      "cell_type": "code",
      "metadata": {
        "colab": {
          "base_uri": "https://localhost:8080/"
        },
        "id": "qspDNmUXbT6M",
        "outputId": "45764155-5ddd-428f-eb61-8e8b26c2103b"
      },
      "source": [
        "#program to convert from fahrenheit to celsius or vice_versa in the given range \n",
        "choice = input('Celsius or Fahrenheit (c/f): ').lower()\n",
        "start_temp = int(input('Start Temp: '))\n",
        "end_temp = int(input('End Temp: '))\n",
        "temp_gap = int(input('Temperature Gap: '))\n",
        "#convert from celsius to fahrenheit\n",
        "if choice == 'c':\n",
        "  while start_temp <= end_temp:\n",
        "    celsius_to_fahrenheit = (start_temp * 9/5) + 32\n",
        "    print(start_temp,celsius_to_fahrenheit)\n",
        "    start_temp += temp_gap\n",
        "elif choice == 'f':\n",
        "  while start_temp <= end_temp:\n",
        "    fahrenheit_to_celsius = (start_temp -32) * 5/9\n",
        "    print(start_temp,fahrenheit_to_celsius)\n",
        "    start_temp += temp_gap\n",
        "else:\n",
        "  print('Invalid choice')"
      ],
      "execution_count": 29,
      "outputs": [
        {
          "output_type": "stream",
          "name": "stdout",
          "text": [
            "Celsius or Fahrenheit (c/f): f\n",
            "Start Temp: 20\n",
            "End Temp: 119\n",
            "Temperature Gap: 13\n",
            "20 -6.666666666666667\n",
            "33 0.5555555555555556\n",
            "46 7.777777777777778\n",
            "59 15.0\n",
            "72 22.22222222222222\n",
            "85 29.444444444444443\n",
            "98 36.666666666666664\n",
            "111 43.888888888888886\n"
          ]
        }
      ]
    },
    {
      "cell_type": "code",
      "metadata": {
        "colab": {
          "base_uri": "https://localhost:8080/"
        },
        "id": "M5EvSPVPhb7J",
        "outputId": "25de7b6c-befc-4c1a-b9e1-4eb6eb71c545"
      },
      "source": [
        "#program to generate fibonacci series \n",
        "#function to return nth term of fibonacci series\n",
        "def fibonacci(n):\n",
        "  if n < 2:\n",
        "    return n\n",
        "  else:\n",
        "    return fibonacci(n-1) + fibonacci(n-2) \n",
        "\n",
        "n = int(input('Enter number of terms: '))\n",
        "fib_series = []\n",
        "for i in range(n):\n",
        "  fib_series.append(fibonacci(i))\n",
        "print(fib_series)"
      ],
      "execution_count": 31,
      "outputs": [
        {
          "output_type": "stream",
          "name": "stdout",
          "text": [
            "Enter number of terms: 10\n",
            "[0, 1, 1, 2, 3, 5, 8, 13, 21, 34]\n"
          ]
        }
      ]
    },
    {
      "cell_type": "code",
      "metadata": {
        "colab": {
          "base_uri": "https://localhost:8080/"
        },
        "id": "lXAv8QtzjoAU",
        "outputId": "332325b6-f1bd-4a7a-ac25-744fd58abcda"
      },
      "source": [
        "#program to check palindrome number\n",
        "def get_reverse(num):\n",
        "  reversed_num = 0\n",
        "  while num > 0:\n",
        "    reversed_num = reversed_num*10 + num%10\n",
        "    num = num // 10\n",
        "  return reversed_num\n",
        "\n",
        "number = int(input('Enter number: '))\n",
        "print('palindrome') if number == get_reverse(number) else print('Not Palindrome')"
      ],
      "execution_count": 35,
      "outputs": [
        {
          "output_type": "stream",
          "name": "stdout",
          "text": [
            "Enter number: 12341\n",
            "Not Palindrome\n"
          ]
        }
      ]
    },
    {
      "cell_type": "code",
      "metadata": {
        "colab": {
          "base_uri": "https://localhost:8080/"
        },
        "id": "Wu3UUS7Vrj0-",
        "outputId": "32b43148-efc3-4f98-f526-398a540c4bf2"
      },
      "source": [
        "# program to calculate sum of even numbers upto n\n",
        "n = int(input('Enter n: '))\n",
        "sum = 0\n",
        "for i in range(n+1):\n",
        "  if i%2 == 0:\n",
        "    sum += i\n",
        "print(sum)"
      ],
      "execution_count": 37,
      "outputs": [
        {
          "output_type": "stream",
          "name": "stdout",
          "text": [
            "Enter n: 6\n",
            "12\n"
          ]
        }
      ]
    },
    {
      "cell_type": "code",
      "metadata": {
        "colab": {
          "base_uri": "https://localhost:8080/"
        },
        "id": "lzhXEzrEsHZP",
        "outputId": "87c26a9b-1023-4185-e890-43da6bdd3db7"
      },
      "source": [
        "# program to calculate sum of even and odd digits of a number seperately and total sum of all digits\n",
        "#for number 12345 even sum = 2+4 = 6 odd sum = 1+3+5 = 9\n",
        "number = int(input('Number: '))\n",
        "sum_of_digits = 0\n",
        "even_sum = 0\n",
        "odd_sum = 0\n",
        "while number > 0:\n",
        "  digit = number%10\n",
        "  sum_of_digits += digit\n",
        "  if digit%2 == 0:\n",
        "    even_sum += digit\n",
        "  else:\n",
        "    odd_sum += digit\n",
        "  number = number//10\n",
        "\n",
        "print(sum_of_digits,even_sum,odd_sum)\n"
      ],
      "execution_count": 38,
      "outputs": [
        {
          "output_type": "stream",
          "name": "stdout",
          "text": [
            "Number: 12345\n",
            "15 6 9\n"
          ]
        }
      ]
    },
    {
      "cell_type": "code",
      "metadata": {
        "colab": {
          "base_uri": "https://localhost:8080/"
        },
        "id": "DN0-wfSFtTpK",
        "outputId": "b331e771-691c-4944-8192-d543e78623d0"
      },
      "source": [
        "# program to calculate sum of even and odd digits of a number seperately and total sum of all digits\n",
        "#for number 12345 even sum = 2+4 = 6 odd sum = 1+3+5 = 9\n",
        "#using list \n",
        "number = input('Number: ')\n",
        "digits_list = list(number)\n",
        "sum_of_digits=even_sum=odd_sum = 0\n",
        "for digit in digits_list:\n",
        "  digit = int(digit)\n",
        "  sum_of_digits += digit\n",
        "  if digit%2==0:\n",
        "    even_sum += digit\n",
        "  else:\n",
        "    odd_sum += digit\n",
        "print(sum_of_digits,even_sum,odd_sum)"
      ],
      "execution_count": 46,
      "outputs": [
        {
          "output_type": "stream",
          "name": "stdout",
          "text": [
            "Number: 12345\n",
            "15 6 9\n"
          ]
        }
      ]
    },
    {
      "cell_type": "code",
      "metadata": {
        "colab": {
          "base_uri": "https://localhost:8080/"
        },
        "id": "uzBd7zFGtllr",
        "outputId": "0ee08e56-558b-44cb-dd16-298995ae2604"
      },
      "source": [
        "#program to find sum of n numbers\n",
        "n = int(input('n: '))\n",
        "sum = 0\n",
        "for i in range(n+1):\n",
        "  sum+=i\n",
        "print(sum)"
      ],
      "execution_count": 47,
      "outputs": [
        {
          "output_type": "stream",
          "name": "stdout",
          "text": [
            "n: 10\n",
            "55\n"
          ]
        }
      ]
    },
    {
      "cell_type": "code",
      "metadata": {
        "colab": {
          "base_uri": "https://localhost:8080/"
        },
        "id": "0xuZJowJuppu",
        "outputId": "4a3954ce-646b-49a6-b743-d9b858419053"
      },
      "source": [
        "#program to check armstrong number\n",
        "#function to get no of digits\n",
        "def get_no_of_digits(num):\n",
        "  count = 0\n",
        "  while num > 0:\n",
        "    count+=1\n",
        "    num = num // 10\n",
        "  return count\n",
        "\n",
        "number = int(input('Enter number: '))\n",
        "# no_of_digits = len(str(number))\n",
        "no_of_digits = get_no_of_digits(number)\n",
        "original_num = number\n",
        "sum = 0\n",
        "while number > 0:\n",
        "  digit = number % 10\n",
        "  sum += digit**no_of_digits\n",
        "  number = number//10\n",
        "print('Armstrong') if sum == original_num else print('Not Armstrong')"
      ],
      "execution_count": 54,
      "outputs": [
        {
          "output_type": "stream",
          "name": "stdout",
          "text": [
            "Enter number: 103\n",
            "Not Armstrong\n"
          ]
        }
      ]
    },
    {
      "cell_type": "code",
      "metadata": {
        "id": "8Up0XHyBvaEE"
      },
      "source": [
        ""
      ],
      "execution_count": null,
      "outputs": []
    }
  ]
}